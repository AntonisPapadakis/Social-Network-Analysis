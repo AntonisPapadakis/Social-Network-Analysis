{
  "cells": [
    {
      "cell_type": "code",
      "execution_count": 106,
      "metadata": {
        "id": "soP2h3wP4XdZ"
      },
      "outputs": [],
      "source": [
        "import os \n",
        "import pickle\n",
        "import directories as dir\n",
        "import networkx as nx\n",
        "import community.community_louvain\n",
        "import numpy as np\n",
        "import pandas as pd\n",
        "import matplotlib.pyplot as plt\n",
        "import seaborn as sns\n",
        "from sklearn.metrics.cluster import *\n",
        "from functions import labels_to_clusters, draw_graph"
      ]
    },
    {
      "cell_type": "code",
      "execution_count": 107,
      "metadata": {
        "id": "gfao_njn5teR"
      },
      "outputs": [],
      "source": [
        "fname = os.path.join(dir.graphs_dir, \"projected_graph_with_integer_labels.edgelist\")\n",
        "G = nx.read_weighted_edgelist(fname, nodetype=str)"
      ]
    },
    {
      "cell_type": "code",
      "execution_count": 108,
      "metadata": {
        "id": "uB3cxih-58cJ"
      },
      "outputs": [],
      "source": [
        "fname = os.path.join(dir.data_dir, \"ground_truth_clusters_pickle\")\n",
        "with open(fname, 'rb') as fp:\n",
        "    clusters = pickle.load(fp)\n",
        "\n",
        "ground_truth_label = {}\n",
        "\n",
        "for i, cluster in enumerate(clusters):\n",
        "    for v in cluster:\n",
        "        ground_truth_label[v] = i\n",
        "\n",
        "ground_truth_labels = []\n",
        "for node in range(234):\n",
        "    ground_truth_labels.append(ground_truth_label[node])"
      ]
    },
    {
      "cell_type": "code",
      "execution_count": 109,
      "metadata": {},
      "outputs": [],
      "source": [
        "ground_truth_clusters = labels_to_clusters(ground_truth_labels)\n",
        "ground_truth_clusters_size = [len(cluster) for cluster in ground_truth_clusters]"
      ]
    },
    {
      "cell_type": "markdown",
      "metadata": {
        "id": "7R_mm_LQ_ghS"
      },
      "source": [
        "\n",
        "Different Resolution Values Comparison"
      ]
    },
    {
      "cell_type": "code",
      "execution_count": 110,
      "metadata": {
        "id": "BNesysvhCe1m"
      },
      "outputs": [],
      "source": [
        "res = np.arange(0, 1.05, 0.05)\n",
        "n = res.shape[0]"
      ]
    },
    {
      "cell_type": "code",
      "execution_count": 111,
      "metadata": {
        "id": "Nc3HP7gK-2Rd"
      },
      "outputs": [],
      "source": [
        "modularity = np.zeros(n)\n",
        "clusters = np.zeros(n, dtype=int)\n",
        "mi = np.zeros(n)\n",
        "nmi = np.zeros(n)\n",
        "ami  = np.zeros(n)\n",
        "rand  = np.zeros(n)\n",
        "hom  = np.zeros(n)\n",
        "comp = np.zeros(n)"
      ]
    },
    {
      "cell_type": "code",
      "execution_count": 112,
      "metadata": {
        "id": "4CAhyYfb8Ko9"
      },
      "outputs": [],
      "source": [
        "for i in range(n):\n",
        "  partition = community.community_louvain.best_partition(G, resolution=res[i])\n",
        "\n",
        "  labels_pred = [partition[str(n)] for n in range(234)]\n",
        "  clusters[i] = len(set(labels_pred))\n",
        "\n",
        "  # metrics\n",
        "  modularity[i] = community.community_louvain.modularity(partition, G, weight='weight')\n",
        "  mi[i] = mutual_info_score(labels_pred, ground_truth_labels)\n",
        "  nmi[i] = normalized_mutual_info_score(labels_pred, ground_truth_labels)\n",
        "  ami[i] = adjusted_mutual_info_score(labels_pred, ground_truth_labels)\n",
        "  rand[i] = rand_score(labels_pred, ground_truth_labels)\n",
        "  hom[i] = homogeneity_score(labels_pred, ground_truth_labels)\n",
        "  comp[i] = completeness_score(labels_pred, ground_truth_labels)"
      ]
    },
    {
      "cell_type": "code",
      "execution_count": 113,
      "metadata": {
        "id": "YsCDQOFo9z3o"
      },
      "outputs": [],
      "source": [
        "df = pd.DataFrame(zip(res, clusters, modularity, mi, nmi, ami, rand, hom, comp),\n",
        "                              columns=['Resolution', 'Clusters', 'Modularity', 'MI', 'NMI', 'AMI', 'Rand', 'Hom', 'Comp'])\n",
        "fname = os.path.join(dir.data_dir, \"louvain_metrics.csv\")\n",
        "df.to_csv(fname)"
      ]
    },
    {
      "cell_type": "code",
      "execution_count": null,
      "metadata": {
        "id": "qQDYVGGaB3eP"
      },
      "outputs": [],
      "source": [
        "plt.figure(figsize=(10, 5))\n",
        "sns.lineplot(x=\"Resolution\", y=\"Clusters\", data=df, marker=\"o\")\n",
        "plt.title('Louvain Number of Clusters for different Resolutions')\n",
        "fname = os.path.join(dir.plots_dir, \"louvain_clusters_number.png\")\n",
        "plt.savefig(fname, bbox_inches='tight', pad_inches=0)"
      ]
    },
    {
      "cell_type": "code",
      "execution_count": null,
      "metadata": {},
      "outputs": [],
      "source": [
        "df_temp = df[['Resolution', 'MI', 'NMI', 'AMI']].melt('Resolution', var_name='metrics',\n",
        "                                                                      value_name=' ')\n",
        "\n",
        "sns.lineplot(x=\"Resolution\",  y=\" \", hue='metrics', data=df_temp, marker='o')\n",
        "plt.title('Louvain Metrics for different Resolutions')\n",
        "fname = os.path.join(dir.plots_dir, \"louvain_metrics_1.png\")\n",
        "plt.savefig(fname, bbox_inches='tight', pad_inches=0)"
      ]
    },
    {
      "cell_type": "code",
      "execution_count": null,
      "metadata": {},
      "outputs": [],
      "source": [
        "df_temp = df[['Resolution', 'Rand', 'Hom', 'Comp']].melt('Resolution', var_name='metrics',\n",
        "                                                                      value_name=' ')\n",
        "\n",
        "sns.lineplot(x=\"Resolution\",  y=\" \", hue='metrics', data=df_temp, marker='o')\n",
        "plt.title('Louvain Metrics for different Resolutions')\n",
        "fname = os.path.join(dir.plots_dir, \"louvain_metrics_2.png\")\n",
        "plt.savefig(fname, bbox_inches='tight', pad_inches=0)"
      ]
    },
    {
      "cell_type": "markdown",
      "metadata": {
        "id": "zknwSeLZ_4UT"
      },
      "source": [
        "Resolution = 0.95"
      ]
    },
    {
      "cell_type": "code",
      "execution_count": 118,
      "metadata": {
        "colab": {
          "base_uri": "https://localhost:8080/"
        },
        "id": "EsX5qGOi_6ST",
        "outputId": "93bf4d80-d276-4685-ac64-5d25de2c5684"
      },
      "outputs": [],
      "source": [
        "partition = community.community_louvain.best_partition(G, resolution=0.95)\n",
        "labels = [partition[str(n)] for n in range(234)]\n",
        "louvain_clusters = labels_to_clusters(labels)\n",
        "louvain_clusters_size = [len(cluster) for cluster in louvain_clusters]"
      ]
    },
    {
      "cell_type": "code",
      "execution_count": 119,
      "metadata": {},
      "outputs": [],
      "source": [
        "fname = fname = os.path.join(dir.tables_dir, \"clusters_size_comparison.csv\")\n",
        "with open(fname, mode='w') as f:\n",
        "    f.write(f'Ground truth clusters: {ground_truth_clusters_size}\\n')\n",
        "    f.write(f'Louvain clusters: {louvain_clusters_size}')"
      ]
    },
    {
      "cell_type": "code",
      "execution_count": 120,
      "metadata": {
        "id": "7M_AbfWn_6_l"
      },
      "outputs": [],
      "source": [
        "modularity = community.community_louvain.modularity(partition, G, weight='weight')\n",
        "mi = mutual_info_score(labels, ground_truth_labels)\n",
        "nmi  = normalized_mutual_info_score(labels, ground_truth_labels)\n",
        "ami  = adjusted_mutual_info_score(labels, ground_truth_labels)\n",
        "rand  = rand_score(labels, ground_truth_labels)\n",
        "hom  = homogeneity_score(labels, ground_truth_labels)\n",
        "comp = completeness_score(labels, ground_truth_labels)"
      ]
    },
    {
      "cell_type": "markdown",
      "metadata": {
        "id": "nsJjCoutTZFh"
      },
      "source": [
        "Graph Visualisation"
      ]
    },
    {
      "cell_type": "code",
      "execution_count": 121,
      "metadata": {
        "colab": {
          "base_uri": "https://localhost:8080/"
        },
        "id": "3TrXnaMqTXq_",
        "outputId": "375042f5-a391-4052-f5ff-fd61d374994f"
      },
      "outputs": [
        {
          "data": {
            "text/plain": [
              "{0: 131, 1: 22, 2: 9, 3: 72}"
            ]
          },
          "execution_count": 121,
          "metadata": {},
          "output_type": "execute_result"
        }
      ],
      "source": [
        "party_length = {}\n",
        "for i in range(4):\n",
        "  count = 0\n",
        "  for val in partition.values():\n",
        "      if val == i:\n",
        "          count += 1\n",
        "  party_length[i] = count"
      ]
    },
    {
      "cell_type": "code",
      "execution_count": 123,
      "metadata": {},
      "outputs": [
        {
          "data": {
            "text/plain": [
              "{0: 'b', 1: 'g', 2: 'k', 3: 'r'}"
            ]
          },
          "execution_count": 123,
          "metadata": {},
          "output_type": "execute_result"
        }
      ],
      "source": [
        "colors = {}\n",
        "\n",
        "for k, v in party_length.items():\n",
        "    if v == 9:\n",
        "        colors[k] = 'k'\n",
        "    elif v == 22:\n",
        "        colors[k] = 'g'\n",
        "    elif v == 72:\n",
        "        colors[k] = 'r'\n",
        "    else:\n",
        "        colors[k] = 'b'"
      ]
    },
    {
      "cell_type": "code",
      "execution_count": null,
      "metadata": {
        "colab": {
          "base_uri": "https://localhost:8080/",
          "height": 1000
        },
        "id": "n8w4PA6iG_Mc",
        "outputId": "3be132cb-4bcb-47f1-9ab8-9caa8e715e72"
      },
      "outputs": [],
      "source": [
        "labels = {n: ground_truth_label[int(n)] for n in G.nodes()}\n",
        "color_map = [colors[partition[n]] for n in G.nodes()]\n",
        "fname = os.path.join(dir.plots_dir, \"louvain_graph.png\")\n",
        "draw_graph(G, labels, color_map, fname)"
      ]
    }
  ],
  "metadata": {
    "colab": {
      "collapsed_sections": [],
      "provenance": []
    },
    "kernelspec": {
      "display_name": "Python 3.10.5 64-bit",
      "language": "python",
      "name": "python3"
    },
    "language_info": {
      "codemirror_mode": {
        "name": "ipython",
        "version": 3
      },
      "file_extension": ".py",
      "mimetype": "text/x-python",
      "name": "python",
      "nbconvert_exporter": "python",
      "pygments_lexer": "ipython3",
      "version": "3.10.5"
    },
    "vscode": {
      "interpreter": {
        "hash": "a0a5145e6c304e2a9afaf5b930a2955b950bd4b81fe94f7c42930f43f42762eb"
      }
    }
  },
  "nbformat": 4,
  "nbformat_minor": 0
}
